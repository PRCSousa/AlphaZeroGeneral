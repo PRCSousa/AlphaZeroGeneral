{
  "cells": [
    {
      "cell_type": "code",
      "execution_count": 1,
      "metadata": {
        "trusted": true
      },
      "outputs": [
        {
          "name": "stdout",
          "output_type": "stream",
          "text": [
            "Server ResponseINIT: AG1 A5x5\n",
            "Playing: A5x5\n"
          ]
        },
        {
          "ename": "KeyboardInterrupt",
          "evalue": "",
          "output_type": "error",
          "traceback": [
            "\u001b[1;31m---------------------------------------------------------------------------\u001b[0m",
            "\u001b[1;31mKeyboardInterrupt\u001b[0m                         Traceback (most recent call last)",
            "Cell \u001b[1;32mIn[1], line 86\u001b[0m\n\u001b[0;32m     83\u001b[0m     client_socket\u001b[38;5;241m.\u001b[39mclose()\n\u001b[0;32m     85\u001b[0m \u001b[38;5;28;01mif\u001b[39;00m \u001b[38;5;18m__name__\u001b[39m \u001b[38;5;241m==\u001b[39m \u001b[38;5;124m\"\u001b[39m\u001b[38;5;124m__main__\u001b[39m\u001b[38;5;124m\"\u001b[39m:\n\u001b[1;32m---> 86\u001b[0m     \u001b[43mconnect_to_server\u001b[49m\u001b[43m(\u001b[49m\u001b[43m)\u001b[49m\n",
            "Cell \u001b[1;32mIn[1], line 33\u001b[0m, in \u001b[0;36mconnect_to_server\u001b[1;34m(host, port)\u001b[0m\n\u001b[0;32m     30\u001b[0m game_ready \u001b[38;5;241m=\u001b[39m client_socket\u001b[38;5;241m.\u001b[39mrecv(\u001b[38;5;241m1024\u001b[39m)\u001b[38;5;241m.\u001b[39mdecode()\n\u001b[0;32m     32\u001b[0m \u001b[38;5;28;01mwhile\u001b[39;00m \u001b[38;5;124m'\u001b[39m\u001b[38;5;124mReady\u001b[39m\u001b[38;5;124m'\u001b[39m \u001b[38;5;129;01mnot\u001b[39;00m \u001b[38;5;129;01min\u001b[39;00m game_ready:\n\u001b[1;32m---> 33\u001b[0m     \u001b[43mtime\u001b[49m\u001b[38;5;241;43m.\u001b[39;49m\u001b[43msleep\u001b[49m\u001b[43m(\u001b[49m\u001b[38;5;241;43m1\u001b[39;49m\u001b[43m)\u001b[49m\n\u001b[0;32m     35\u001b[0m \u001b[38;5;28;01mwhile\u001b[39;00m \u001b[38;5;28;01mTrue\u001b[39;00m:\n\u001b[0;32m     37\u001b[0m     \u001b[38;5;28;01mif\u001b[39;00m ag \u001b[38;5;241m==\u001b[39m \u001b[38;5;241m1\u001b[39m \u001b[38;5;129;01mor\u001b[39;00m \u001b[38;5;129;01mnot\u001b[39;00m first:\n",
            "\u001b[1;31mKeyboardInterrupt\u001b[0m: "
          ]
        }
      ],
      "source": [
        "import socket\n",
        "import random\n",
        "import time\n",
        "import os\n",
        "from Go.go import move_to_int as move_to_int_go\n",
        "from Attaxx.attaxx import move_to_int as move_to_int_attaxx\n",
        "\n",
        "client_mode = int(input(\"1 - AlphaZero\\n2 - Human\"))\n",
        "\n",
        "if client_mode == 1:\n",
        "    pass\n",
        "\n",
        "elif client_mode == 2:\n",
        "    #get logic from model we choose\n",
        "    pass\n",
        "\n",
        "def connect_to_server(host='localhost', port=12345):\n",
        "    client_socket = socket.socket(socket.AF_INET, socket.SOCK_STREAM)\n",
        "    client_socket.connect((host, port))\n",
        "    \n",
        "    response = client_socket.recv(1024).decode()\n",
        "    print(f\"Server ResponseINIT: {response}\")\n",
        "    \n",
        "    Game = response[-4:]\n",
        "    print(\"Playing:\", Game)\n",
        "    \n",
        "    if \"1\" in response:\n",
        "        ag=1\n",
        "    else:\n",
        "        ag=2\n",
        "    first=True\n",
        "    \n",
        "    game_ready = client_socket.recv(1024).decode()\n",
        "\n",
        "    while 'Ready' not in game_ready:\n",
        "        time.sleep(1)\n",
        "\n",
        "    while True:\n",
        "        \n",
        "        if ag == 1 or not first:\n",
        "\n",
        "            if Game[0] == 'A':\n",
        "                move = tuple(int(x.strip()) for x in input(\"\\nInput your move: \").split(' '))\n",
        "                move = move_to_int_attaxx(move)\n",
        "                client_socket.send(move.encode())\n",
        "                print(\"Sending move: \",move)\n",
        "                response = client_socket.recv(1024).decode()\n",
        "\n",
        "                if response == 'VALID':\n",
        "                    continue\n",
        "\n",
        "                while response == 'INVALID':\n",
        "                    print(\"Invalid Move\\nSend new move: \")\n",
        "                    move = tuple(int(x.strip()) for x in input(\"\\nInput your move: \").split(' '))\n",
        "                    time.sleep(1)\n",
        "                    client_socket.send(move.encode())\n",
        "                    print(\"Sending move: \",move)\n",
        "\n",
        "            elif Game[0] == 'G':\n",
        "                a, b = tuple(int(x.strip()) for x in input(\"\\nInput your move: \").split(' '))\n",
        "                print(\"\\n\")\n",
        "                move = a * 9 + b\n",
        "\n",
        "                if response == 'VALID':\n",
        "                    continue\n",
        "\n",
        "                while response == 'INVALID':\n",
        "                    print(\"Invalid Move\\nSend new move: \")\n",
        "                    a, b = tuple(int(x.strip()) for x in input(\"\\nInput your move: \").split(' '))\n",
        "                    move = move_to_int_go(a, b)\n",
        "                    time.sleep(1)\n",
        "                    client_socket.send(move.encode())\n",
        "                    print(\"Sending move: \",move)\n",
        "\n",
        "            # Wait for server response\n",
        "            response = client_socket.recv(1024).decode()\n",
        "            print(f\"Server Response1: {response}\")\n",
        "            if \"END\" in response: break\n",
        "         \n",
        "        first=False\n",
        "        response = client_socket.recv(1024).decode()\n",
        "        print(f\"Server Response2: {response}\")\n",
        "        if \"END\" in response: break\n",
        "\n",
        "\n",
        "    client_socket.close()\n",
        "\n",
        "if __name__ == \"__main__\":\n",
        "    connect_to_server()"
      ]
    },
    {
      "cell_type": "code",
      "execution_count": null,
      "metadata": {
        "trusted": true
      },
      "outputs": [],
      "source": []
    }
  ],
  "metadata": {
    "kernelspec": {
      "display_name": "ML2",
      "language": "python",
      "name": "python3"
    },
    "language_info": {
      "codemirror_mode": {
        "name": "ipython",
        "version": 3
      },
      "file_extension": ".py",
      "mimetype": "text/x-python",
      "name": "python",
      "nbconvert_exporter": "python",
      "pygments_lexer": "ipython3",
      "version": "3.9.18"
    }
  },
  "nbformat": 4,
  "nbformat_minor": 4
}
