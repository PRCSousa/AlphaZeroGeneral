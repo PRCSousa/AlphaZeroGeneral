{
  "cells": [
    {
      "cell_type": "code",
      "execution_count": 1,
      "metadata": {
        "trusted": true
      },
      "outputs": [
        {
          "name": "stdout",
          "output_type": "stream",
          "text": [
            "A5x5\n",
            "True\n",
            "Waiting for two agents to connect...\n",
            "Agent 1 connected from ('127.0.0.1', 56334)\n",
            "Agent 2 connected from ('127.0.0.1', 56336)\n",
            "[[ 1.  0.  0.  0. -1.]\n",
            " [ 0.  0.  0.  0.  0.]\n",
            " [ 0.  0.  0.  0.  0.]\n",
            " [ 0.  0.  0.  0.  0.]\n",
            " [-1.  0.  0.  0.  1.]]\n",
            "[[ 1.  0.  0.  0. -1.]\n",
            " [ 0.  0.  0.  0.  0.]\n",
            " [ 0.  0.  0.  0.  0.]\n",
            " [ 0.  0.  0.  0.  0.]\n",
            " [-1.  0.  0.  0.  1.]]\n",
            "Agent <socket.socket fd=1444, family=AddressFamily.AF_INET, type=SocketKind.SOCK_STREAM, proto=0, laddr=('127.0.0.1', 12345), raddr=('127.0.0.1', 56334)> sent move 0001\n",
            "Error: is_valid_move() missing 2 required positional arguments: 'action' and 'player'\n",
            "\n",
            "-----------------\n",
            "GAME END\n",
            "-----------------\n",
            "\n"
          ]
        }
      ],
      "source": [
        "import socket\n",
        "import time\n",
        "import os\n",
        "os.chdir('..')\n",
        "from Go.go import Go\n",
        "from Attaxx.attaxx import Attaxx\n",
        "\n",
        "Game=str(input(\"specify game and board dimensions:\\n\")) # \"A6x6\" \"G7x7\" \"G9x9\" \"A5x5\" \"A4x4\"\n",
        "\n",
        "def start_server(current_game, host='localhost', port=12345):\n",
        "    server_socket = socket.socket(socket.AF_INET, socket.SOCK_STREAM)\n",
        "    server_socket.bind((host, port))\n",
        "    server_socket.listen(2)\n",
        "\n",
        "    print(\"Waiting for two agents to connect...\")\n",
        "    agent1, addr1 = server_socket.accept()\n",
        "    print(\"Agent 1 connected from\", addr1)\n",
        "    bs=b'AG1 '+Game.encode()\n",
        "    agent1.sendall(bs)\n",
        "\n",
        "    agent2, addr2 = server_socket.accept()\n",
        "    print(\"Agent 2 connected from\", addr2)\n",
        "    bs=b'AG2 '+Game.encode()\n",
        "    agent2.sendall(bs)\n",
        "\n",
        "    agents = [agent1, agent2]\n",
        "    current_agent = 0\n",
        "    \n",
        "    state = current_game.get_initial_state()\n",
        "    print(state)\n",
        "\n",
        "    while True:\n",
        "        try:\n",
        "            data = agents[current_agent].recv(1024).decode()\n",
        "            if not data:\n",
        "                break\n",
        "\n",
        "            move = data\n",
        "            print(state)\n",
        "            print(f\"Agent {agents[current_agent]} sent move {move}\")\n",
        "            \n",
        "            winner, game_over = current_game.get_value_and_terminated(state, None, None)\n",
        "\n",
        "            if game_over: \n",
        "                agents[current_agent].sendall(b'END')\n",
        "                agents[1-current_agent].sendall(b'END')\n",
        "                break\n",
        "            \n",
        "            if current_game.is_valid_move(state, move, agents[current_agent]):\n",
        "                agents[current_agent].sendall(b'VALID')\n",
        "                agents[1-current_agent].sendall(data.encode())\n",
        "                new_state = current_game.get_next_state(state, move, agents[current_agent])\n",
        "                print(new_state)\n",
        "                state = new_state\n",
        "            else:\n",
        "                agents[current_agent].sendall(b'INVALID')\n",
        "\n",
        "            # Switch to the other agent\n",
        "            current_agent = 1-current_agent\n",
        "            time.sleep(1)\n",
        "\n",
        "        except Exception as e:\n",
        "            print(\"Error:\", e)\n",
        "            break\n",
        "\n",
        "    print(\"\\n-----------------\\nGAME END\\n-----------------\\n\")\n",
        "    time.sleep(1)\n",
        "    agent1.close()\n",
        "    agent2.close()\n",
        "    server_socket.close()\n",
        "\n",
        "if __name__ == \"__main__\":\n",
        "    if Game[0] == 'A':\n",
        "        current_game = Attaxx([int(Game[-1]), int(Game[-1])])\n",
        "    elif Game[0] == 'G':\n",
        "        current_game = Go([int(Game[-1]), int(Game[-1])], 5.5)\n",
        "    start_server(current_game)"
      ]
    },
    {
      "cell_type": "code",
      "execution_count": null,
      "metadata": {
        "trusted": true
      },
      "outputs": [],
      "source": []
    },
    {
      "cell_type": "code",
      "execution_count": null,
      "metadata": {
        "trusted": true
      },
      "outputs": [],
      "source": []
    }
  ],
  "metadata": {
    "kernelspec": {
      "display_name": "ML2",
      "language": "python",
      "name": "python3"
    },
    "language_info": {
      "codemirror_mode": {
        "name": "ipython",
        "version": 3
      },
      "file_extension": ".py",
      "mimetype": "text/x-python",
      "name": "python",
      "nbconvert_exporter": "python",
      "pygments_lexer": "ipython3",
      "version": "3.9.18"
    }
  },
  "nbformat": 4,
  "nbformat_minor": 4
}
